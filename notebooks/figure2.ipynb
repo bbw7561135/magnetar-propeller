{
 "cells": [
  {
   "cell_type": "code",
   "execution_count": 5,
   "metadata": {},
   "outputs": [],
   "source": [
    "import numpy as np\n",
    "import matplotlib.pyplot as plt\n",
    "from scipy.integrate import odeint\n",
    "#from magnetar.funcs import init_conds, ODEs\n",
    "\n",
    "# Some parameters for formatting\n",
    "colours = ['r', 'r', 'g', 'g']\n",
    "lines = ['-', '--', '-', '--']"
   ]
  },
  {
   "cell_type": "code",
   "execution_count": 6,
   "metadata": {},
   "outputs": [],
   "source": [
    "# Constants\n",
    "G = 6.674e-8    # Gravitational constant - cgs units\n",
    "Msol = 1.99e33  # Solar mass - grams\n",
    "M = 1.4 * Msol  # Magnetar mass - grams\n",
    "R = 1.0e6       # Magnetar radius - cm\n",
    "GM = G * M\n",
    "\n",
    "B = 1.0         # Magnetic Field Strength - 10^15 Gauss\n",
    "P = 5.0         # Initial spin period - milliseconds\n",
    "MdiscI = 0.001  # Initial disc mass - Solar masses\n",
    "RdiscI = 100.0  # Disc radius - km\n",
    "\n",
    "mu = 1.0e15 * B * R ** 3.0           # Magnetic Dipole Moment\n",
    "Rdisc = RdiscI * 1.0e5               # Convert disc radius to cm\n",
    "tvisc = Rdisc / (0.1 * 1.0 * 1.0e7)  # Viscous timescale - seconds\n",
    "\n",
    "t = np.logspace(0.0, 6.0, base=10.0, num=10001)  # Time array\n",
    "\n",
    "#y = init_conds([P, MdiscI])\n",
    "\n",
    "e_vals = [1.0, 1.0, 10.0, 10.0]  # epsilon values\n",
    "d_vals = [1.0, 10.0, 1.0, 10.0]  # delta values"
   ]
  },
  {
   "cell_type": "code",
   "execution_count": null,
   "metadata": {},
   "outputs": [],
   "source": [
    "# Set up the figure\n",
    "fig, (ax1, ax2, ax3) = plt.subplots(3, 1, sharex=True, figsize=(4,5))\n",
    "ax3.axhline(1.0, ls='--', c='k')\n",
    "\n",
    "# Loop over the epsilon and delta values\n",
    "for i, vals in enumerate(zip(e_vals, d_vals)):\n",
    "    epsilon, delta = vals\n",
    "\n",
    "    # Solve the ODEs and split the solution\n",
    "    soln = odeint(ODEs, y, t, args=(b, MdiscI, RdiscI, epsilon, delta))\n",
    "    Mdisc = soln[:,0]\n",
    "    omega = soln[:,1]\n",
    "    \n",
    "    # Radii\n",
    "    Rm = mu ** (4.0 / 7.0) * GM ** (-1.0 / 7.0) * (Mdisc / tvisc) ** (-2.0 / 7.0)\n",
    "    Rc = (GM / omega ** 2.0) ** (1.0 / 3.0)\n",
    "    \n",
    "    # Plotting\n",
    "    ax1.loglog(t, Mdisc/Msol, ls=lines[i], c=colours[i], label='$\\epsilon$ = {0}; $\\delta$ = {1}'.format(int(epsilon), int(delta)))\n",
    "    ax2.semilogx(t, omega, ls=lines[i], c=colours[i])\n",
    "    ax3.semilogx(t, Rm/Rc, ls=lines[i], c=colours[i])\n",
    "\n",
    "# Plot formatting\n",
    "ax1.set_xlim(1.0e0, 1.0e6)\n",
    "ax1.set_ylim(bottom=1.0e-8)\n",
    "ax2.set_xlim(1.0e0, 1.0e6)\n",
    "ax3.set_xlim(1.0e0, 1.0e6)\n",
    "ax3.set_ylim(0.0, 2.0)\n",
    "\n",
    "ax1.tick_params(axis='both', which='major', labelsize=8)\n",
    "ax2.tick_params(axis='both', which='major', labelsize=8)\n",
    "ax3.tick_params(axis='both', which='major', labelsize=8)\n",
    "\n",
    "ax1.legend(loc='upper right', fontsize=8)\n",
    "ax3.set_xlabel('Time (s)', fontsize=10)\n",
    "\n",
    "ax1.set_ylabel('$M_{\\rm D}~\\left({\\rm M}_{\\odot}\\right)$', fontsize=10)\n",
    "ax2.set_ylabel('$\\omega~\\left({\\rm s}^{-1}\\right)$', fontsize=10)\n",
    "ax3.set_ylabel('$r_{\\rm m}/r_{\\rm c}$', fontsize=10)"
   ]
  }
 ],
 "metadata": {
  "kernelspec": {
   "display_name": "Python 2",
   "language": "python",
   "name": "python2"
  },
  "language_info": {
   "codemirror_mode": {
    "name": "ipython",
    "version": 2
   },
   "file_extension": ".py",
   "mimetype": "text/x-python",
   "name": "python",
   "nbconvert_exporter": "python",
   "pygments_lexer": "ipython2",
   "version": "2.7.15"
  }
 },
 "nbformat": 4,
 "nbformat_minor": 2
}
