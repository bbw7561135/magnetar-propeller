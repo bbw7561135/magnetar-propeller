{
 "cells": [
  {
   "cell_type": "code",
   "execution_count": 1,
   "metadata": {},
   "outputs": [
    {
     "ename": "ImportError",
     "evalue": "No module named magnetar.funcs",
     "output_type": "error",
     "traceback": [
      "\u001b[0;31m---------------------------------------------------------------------------\u001b[0m",
      "\u001b[0;31mImportError\u001b[0m                               Traceback (most recent call last)",
      "\u001b[0;32m<ipython-input-1-b54e59bb5e18>\u001b[0m in \u001b[0;36m<module>\u001b[0;34m()\u001b[0m\n\u001b[1;32m      2\u001b[0m \u001b[0;32mimport\u001b[0m \u001b[0mmatplotlib\u001b[0m\u001b[0;34m.\u001b[0m\u001b[0mpyplot\u001b[0m \u001b[0;32mas\u001b[0m \u001b[0mplt\u001b[0m\u001b[0;34m\u001b[0m\u001b[0m\n\u001b[1;32m      3\u001b[0m \u001b[0;32mfrom\u001b[0m \u001b[0mscipy\u001b[0m\u001b[0;34m.\u001b[0m\u001b[0mintegrate\u001b[0m \u001b[0;32mimport\u001b[0m \u001b[0modeint\u001b[0m\u001b[0;34m\u001b[0m\u001b[0m\n\u001b[0;32m----> 4\u001b[0;31m \u001b[0;32mfrom\u001b[0m \u001b[0mmagnetar\u001b[0m\u001b[0;34m.\u001b[0m\u001b[0mfuncs\u001b[0m \u001b[0;32mimport\u001b[0m \u001b[0minit_conds\u001b[0m\u001b[0;34m,\u001b[0m \u001b[0mODEs\u001b[0m\u001b[0;34m\u001b[0m\u001b[0m\n\u001b[0m\u001b[1;32m      5\u001b[0m \u001b[0;34m\u001b[0m\u001b[0m\n\u001b[1;32m      6\u001b[0m \u001b[0mget_ipython\u001b[0m\u001b[0;34m(\u001b[0m\u001b[0;34m)\u001b[0m\u001b[0;34m.\u001b[0m\u001b[0mmagic\u001b[0m\u001b[0;34m(\u001b[0m\u001b[0;34mu'matplotlib inline'\u001b[0m\u001b[0;34m)\u001b[0m\u001b[0;34m\u001b[0m\u001b[0m\n",
      "\u001b[0;31mImportError\u001b[0m: No module named magnetar.funcs"
     ]
    }
   ],
   "source": [
    "import numpy as np\n",
    "import matplotlib.pyplot as plt\n",
    "from scipy.integrate import odeint\n",
    "from magnetar.funcs import init_conds, ODEs\n",
    "\n",
    "%matplotlib inline\n",
    "\n",
    "# Some parameters for formatting\n",
    "colours = ['r', 'r', 'g', 'g']\n",
    "lines = ['-', '--', '-', '--']"
   ]
  },
  {
   "cell_type": "code",
   "execution_count": 2,
   "metadata": {},
   "outputs": [
    {
     "ename": "NameError",
     "evalue": "name 'init_conds' is not defined",
     "output_type": "error",
     "traceback": [
      "\u001b[0;31m---------------------------------------------------------------------------\u001b[0m",
      "\u001b[0;31mNameError\u001b[0m                                 Traceback (most recent call last)",
      "\u001b[0;32m<ipython-input-2-853efdaaec50>\u001b[0m in \u001b[0;36m<module>\u001b[0;34m()\u001b[0m\n\u001b[1;32m     19\u001b[0m \u001b[0mt\u001b[0m \u001b[0;34m=\u001b[0m \u001b[0mnp\u001b[0m\u001b[0;34m.\u001b[0m\u001b[0mlogspace\u001b[0m\u001b[0;34m(\u001b[0m\u001b[0;36m0.0\u001b[0m\u001b[0;34m,\u001b[0m \u001b[0;36m6.0\u001b[0m\u001b[0;34m,\u001b[0m \u001b[0mbase\u001b[0m\u001b[0;34m=\u001b[0m\u001b[0;36m10.0\u001b[0m\u001b[0;34m,\u001b[0m \u001b[0mnum\u001b[0m\u001b[0;34m=\u001b[0m\u001b[0;36m10001\u001b[0m\u001b[0;34m)\u001b[0m  \u001b[0;31m# Time array\u001b[0m\u001b[0;34m\u001b[0m\u001b[0m\n\u001b[1;32m     20\u001b[0m \u001b[0;34m\u001b[0m\u001b[0m\n\u001b[0;32m---> 21\u001b[0;31m \u001b[0my\u001b[0m \u001b[0;34m=\u001b[0m \u001b[0minit_conds\u001b[0m\u001b[0;34m(\u001b[0m\u001b[0;34m[\u001b[0m\u001b[0mP\u001b[0m\u001b[0;34m,\u001b[0m \u001b[0mMdiscI\u001b[0m\u001b[0;34m]\u001b[0m\u001b[0;34m)\u001b[0m\u001b[0;34m\u001b[0m\u001b[0m\n\u001b[0m\u001b[1;32m     22\u001b[0m \u001b[0;34m\u001b[0m\u001b[0m\n\u001b[1;32m     23\u001b[0m \u001b[0mvals\u001b[0m \u001b[0;34m=\u001b[0m \u001b[0;34m[\u001b[0m\u001b[0;34m[\u001b[0m\u001b[0;36m1.0\u001b[0m\u001b[0;34m,\u001b[0m \u001b[0;36m1.0\u001b[0m\u001b[0;34m]\u001b[0m\u001b[0;34m,\u001b[0m \u001b[0;34m[\u001b[0m\u001b[0;36m1.0\u001b[0m\u001b[0;34m,\u001b[0m \u001b[0;36m10.0\u001b[0m\u001b[0;34m]\u001b[0m\u001b[0;34m,\u001b[0m \u001b[0;34m[\u001b[0m\u001b[0;36m10.0\u001b[0m\u001b[0;34m,\u001b[0m \u001b[0;36m1.0\u001b[0m\u001b[0;34m]\u001b[0m\u001b[0;34m,\u001b[0m \u001b[0;34m[\u001b[0m\u001b[0;36m10.0\u001b[0m\u001b[0;34m,\u001b[0m \u001b[0;36m10.0\u001b[0m\u001b[0;34m]\u001b[0m\u001b[0;34m]\u001b[0m  \u001b[0;31m# Values of epsilon and delta to solve for\u001b[0m\u001b[0;34m\u001b[0m\u001b[0m\n",
      "\u001b[0;31mNameError\u001b[0m: name 'init_conds' is not defined"
     ]
    }
   ],
   "source": [
    "# Constants\n",
    "G = 6.674e-8    # Gravitational constant - cgs units\n",
    "Msol = 1.99e33  # Solar mass - grams\n",
    "M = 1.4 * Msol  # Magnetar mass - grams\n",
    "R = 1.0e6       # Magnetar radius - cm\n",
    "alpha = 0.1     # Sound speed prescription\n",
    "cs7 = 1.0       # Sound speed - cm/s\n",
    "GM = G * M\n",
    "\n",
    "B = 1.0         # Magnetic Field Strength - 10^15 Gauss\n",
    "P = 5.0         # Initial spin period - milliseconds\n",
    "MdiscI = 0.001  # Initial disc mass - Solar masses\n",
    "RdiscI = 100.0  # Disc radius - km\n",
    "\n",
    "mu = 1.0e15 * B * R ** 3.0             # Magnetic Dipole Moment\n",
    "Rdisc = RdiscI * 1.0e5                 # Convert disc radius to cm\n",
    "tvisc = Rdisc / (alpha * cs7 * 1.0e7)  # Viscous timescale - seconds\n",
    "\n",
    "t = np.logspace(0.0, 6.0, base=10.0, num=10001)  # Time array\n",
    "\n",
    "y = init_conds([P, MdiscI])\n",
    "\n",
    "vals = [[1.0, 1.0], [1.0, 10.0], [10.0, 1.0], [10.0, 10.0]]  # Values of epsilon and delta to solve for"
   ]
  },
  {
   "cell_type": "code",
   "execution_count": 3,
   "metadata": {},
   "outputs": [
    {
     "ename": "NameError",
     "evalue": "name 'vals' is not defined",
     "output_type": "error",
     "traceback": [
      "\u001b[0;31m---------------------------------------------------------------------------\u001b[0m",
      "\u001b[0;31mNameError\u001b[0m                                 Traceback (most recent call last)",
      "\u001b[0;32m<ipython-input-3-38d639d2d31f>\u001b[0m in \u001b[0;36m<module>\u001b[0;34m()\u001b[0m\n\u001b[1;32m      4\u001b[0m \u001b[0;34m\u001b[0m\u001b[0m\n\u001b[1;32m      5\u001b[0m \u001b[0;31m# Loop over the epsilon and delta values\u001b[0m\u001b[0;34m\u001b[0m\u001b[0;34m\u001b[0m\u001b[0m\n\u001b[0;32m----> 6\u001b[0;31m \u001b[0;32mfor\u001b[0m \u001b[0mi\u001b[0m\u001b[0;34m,\u001b[0m \u001b[0mval\u001b[0m \u001b[0;32min\u001b[0m \u001b[0menumerate\u001b[0m\u001b[0;34m(\u001b[0m\u001b[0mvals\u001b[0m\u001b[0;34m)\u001b[0m\u001b[0;34m:\u001b[0m\u001b[0;34m\u001b[0m\u001b[0m\n\u001b[0m\u001b[1;32m      7\u001b[0m     \u001b[0mepsilon\u001b[0m\u001b[0;34m,\u001b[0m \u001b[0mdelta\u001b[0m \u001b[0;34m=\u001b[0m \u001b[0mval\u001b[0m\u001b[0;34m\u001b[0m\u001b[0m\n\u001b[1;32m      8\u001b[0m \u001b[0;34m\u001b[0m\u001b[0m\n",
      "\u001b[0;31mNameError\u001b[0m: name 'vals' is not defined"
     ]
    },
    {
     "data": {
      "image/png": "[encoded data removed]",
      "text/plain": [
       "<Figure size 432x504 with 3 Axes>"
      ]
     },
     "metadata": {
      "needs_background": "light"
     },
     "output_type": "display_data"
    }
   ],
   "source": [
    "# Set up the figure\n",
    "fig, (ax1, ax2, ax3) = plt.subplots(3, 1, sharex=True, figsize=(6,7))\n",
    "ax3.axhline(1.0, ls='--', c='k')\n",
    "\n",
    "# Loop over the epsilon and delta values\n",
    "for i, val in enumerate(vals):\n",
    "    epsilon, delta = val\n",
    "\n",
    "    # Solve the ODEs and split the solution\n",
    "    soln = odeint(ODEs, y, t, args=(B, MdiscI, RdiscI, epsilon, delta))\n",
    "    Mdisc = soln[:,0]\n",
    "    omega = soln[:,1]\n",
    "    \n",
    "    # Radii\n",
    "    Rm = mu ** (4.0 / 7.0) * GM ** (-1.0 / 7.0) * (Mdisc / tvisc) ** (-2.0 / 7.0)\n",
    "    Rc = (GM / omega ** 2.0) ** (1.0 / 3.0)\n",
    "    \n",
    "    # Plotting\n",
    "    ax1.loglog(t, Mdisc/Msol, ls=lines[i], c=colours[i], label='$\\epsilon$ = {0}; $\\delta$ = {1}'.format(int(epsilon), int(delta)))\n",
    "    ax2.semilogx(t, omega, ls=lines[i], c=colours[i])\n",
    "    ax3.semilogx(t, Rm/Rc, ls=lines[i], c=colours[i])\n",
    "\n",
    "# Plot formatting\n",
    "ax1.set_xlim(1.0e0, 1.0e6)\n",
    "ax1.set_ylim(bottom=1.0e-8)\n",
    "ax2.set_xlim(1.0e0, 1.0e6)\n",
    "ax3.set_xlim(1.0e0, 1.0e6)\n",
    "ax3.set_ylim(0.0, 2.0)\n",
    "\n",
    "ax1.tick_params(axis='both', which='major', labelsize=8)\n",
    "ax2.tick_params(axis='both', which='major', labelsize=8)\n",
    "ax3.tick_params(axis='both', which='major', labelsize=8)\n",
    "\n",
    "ax1.legend(loc='upper right', fontsize=8)\n",
    "ax3.set_xlabel('Time (s)', fontsize=10)\n",
    "\n",
    "ax1.set_ylabel('$M_{\\\\rm D}~\\left({\\\\rm M}_{\\odot}\\\\right)$', fontsize=10)\n",
    "ax2.set_ylabel('$\\omega~\\left({\\\\rm s}^{-1}\\\\right)$', fontsize=10)\n",
    "ax3.set_ylabel('$r_{\\\\rm m}/r_{\\\\rm c}$', fontsize=10)"
   ]
  },
  {
   "cell_type": "code",
   "execution_count": null,
   "metadata": {},
   "outputs": [],
   "source": []
  }
 ],
 "metadata": {
  "kernelspec": {
   "display_name": "Python 2",
   "language": "python",
   "name": "python2"
  },
  "language_info": {
   "codemirror_mode": {
    "name": "ipython",
    "version": 2
   },
   "file_extension": ".py",
   "mimetype": "text/x-python",
   "name": "python",
   "nbconvert_exporter": "python",
   "pygments_lexer": "ipython2",
   "version": "2.7.15"
  }
 },
 "nbformat": 4,
 "nbformat_minor": 2
}
