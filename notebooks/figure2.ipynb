{
 "cells": [
  {
   "cell_type": "markdown",
   "metadata": {},
   "source": [
    "# Evolution of $M_{\\rm D}$ and $\\omega$ over Time\n",
    "\n",
    "This notebook aims to reproduce Fig. 2 from [Gibson et al. (2017)](https://arxiv.org/abs/1706.04802) which examines how the disc mass $M_{\\rm D}$ and the angular frequency $\\omega$ evolve over time after `odeint` has solved the ODEs and how the evolution is affected by different values of timescale ratio $\\epsilon$ and mass ratio $\\delta$. By also examining the fastness parameter evolution, we can observe how the variation in $\\epsilon$ and $\\delta$ affects the \"switch-on\" of the propeller regime ($\\Omega > 1$).\n",
    "\n",
    "## 1. Module Imports\n",
    "\n",
    "Here we import standard libraries `numpy` and `matplotlib` and import `odeint` from `scipy`. Rather than redefine `init_conds` and `ODEs` again, they have been exported to a package called `magnetar` and can also be imported."
   ]
  },
  {
   "cell_type": "code",
   "execution_count": null,
   "metadata": {},
   "outputs": [],
   "source": [
    "import numpy as np\n",
    "import matplotlib.pyplot as plt\n",
    "from scipy.integrate import odeint\n",
    "from magnetar.funcs import init_conds, ODEs\n",
    "\n",
    "%matplotlib inline"
   ]
  },
  {
   "cell_type": "markdown",
   "metadata": {},
   "source": [
    "## 2. Variable Set-up\n",
    "\n",
    "Here we set up global constants required for the calculation and the values of $\\epsilon$ and $\\delta$ we'd like to test."
   ]
  },
  {
   "cell_type": "code",
   "execution_count": null,
   "metadata": {},
   "outputs": [],
   "source": [
    "# Constants\n",
    "G = 6.674e-8    # Gravitational constant - cgs units\n",
    "Msol = 1.99e33  # Solar mass - grams\n",
    "M = 1.4 * Msol  # Magnetar mass - grams\n",
    "R = 1.0e6       # Magnetar radius - cm\n",
    "alpha = 0.1     # Sound speed prescription\n",
    "cs7 = 1.0       # Sound speed - cm/s\n",
    "GM = G * M\n",
    "\n",
    "B = 1.0         # Magnetic Field Strength - 10^15 Gauss\n",
    "P = 5.0         # Initial spin period - milliseconds\n",
    "MdiscI = 0.001  # Initial disc mass - Solar masses\n",
    "RdiscI = 100.0  # Disc radius - km\n",
    "\n",
    "mu = 1.0e15 * B * (R ** 3.0)           # Magnetic Dipole Moment\n",
    "Rdisc = RdiscI * 1.0e5                 # Convert disc radius to cm\n",
    "tvisc = Rdisc / (alpha * cs7 * 1.0e7)  # Viscous timescale - seconds\n",
    "\n",
    "t = np.logspace(0.0, 6.0, base=10.0, num=10001)  # Time array\n",
    "\n",
    "y = init_conds(P, MdiscI)  # Initial conditions\n",
    "\n",
    "eps_vals = [1.0, 1.0, 10.0, 10.0]  # Epsilon values\n",
    "delt_vals = [1.0, 10.0, 1.0, 10.0]  # Delta values"
   ]
  },
  {
   "cell_type": "markdown",
   "metadata": {},
   "source": [
    "## 3. Solve the Equations and Plot the Results\n",
    "\n",
    "Here we loop over the desired $\\epsilon$ and $\\delta$ values and plot the figure."
   ]
  },
  {
   "cell_type": "code",
   "execution_count": null,
   "metadata": {},
   "outputs": [],
   "source": [
    "# Set up a figure with 3 subplots\n",
    "fig, (ax1, ax2, ax3) = plt.subplots(3, 1, sharex=True, figsize=(6,7))\n",
    "ax3.axhline(1.0, ls='--', c='k')  # Marks the w > 1 condition\n",
    "\n",
    "colours = ['r', 'r', 'g', 'g']  # Line colours\n",
    "lines = ['-', '--', '-', '--']  # Linestyles\n",
    "\n",
    "# Loop over the epsilon and delta values\n",
    "for i, vals in enumerate(zip(eps_vals, delt_vals)):\n",
    "    epsilon, delta = vals\n",
    "\n",
    "    # Solve the ODEs and split the solution\n",
    "    # n value defaults to 1 when absent from args\n",
    "    soln = odeint(ODEs, y, t, args=(B, MdiscI, RdiscI, epsilon, delta))\n",
    "    Mdisc = soln[:,0]\n",
    "    omega = soln[:,1]\n",
    "    \n",
    "    # Radii\n",
    "    Rm = ((mu ** (4.0 / 7.0)) * (GM ** (-1.0 / 7.0)) * (Mdisc / tvisc) **\n",
    "          (-2.0 / 7.0))\n",
    "    Rc = (GM / (omega ** 2.0)) ** (1.0 / 3.0)\n",
    "    \n",
    "    # Plotting\n",
    "    ax1.loglog(t, Mdisc/Msol, ls=lines[i], c=colours[i],\n",
    "               label='$\\epsilon$ = {0}; $\\delta$ = {1}'.format(\n",
    "                      int(epsilon), int(delta)))\n",
    "    ax2.semilogx(t, omega, ls=lines[i], c=colours[i])\n",
    "    ax3.semilogx(t, Rm/Rc, ls=lines[i], c=colours[i])\n",
    "\n",
    "# Plot formatting\n",
    "ax1.set_xlim(1.0e0, 1.0e6)\n",
    "ax1.set_ylim(bottom=1.0e-8)\n",
    "ax2.set_xlim(1.0e0, 1.0e6)\n",
    "ax3.set_xlim(1.0e0, 1.0e6)\n",
    "ax3.set_ylim(0.0, 2.0)\n",
    "\n",
    "ax1.tick_params(axis='both', which='major', labelsize=8)\n",
    "ax2.tick_params(axis='both', which='major', labelsize=8)\n",
    "ax3.tick_params(axis='both', which='major', labelsize=8)\n",
    "\n",
    "ax1.legend(loc='upper right', fontsize=8)\n",
    "ax3.set_xlabel('Time (s)', fontsize=10)\n",
    "\n",
    "ax1.set_ylabel('$M_{\\\\rm D}~\\left({\\\\rm M}_{\\odot}\\\\right)$', fontsize=10)\n",
    "ax2.set_ylabel('$\\omega~\\left({\\\\rm s}^{-1}\\\\right)$', fontsize=10)\n",
    "ax3.set_ylabel('$r_{\\\\rm m}/r_{\\\\rm c}$', fontsize=10);"
   ]
  },
  {
   "cell_type": "markdown",
   "metadata": {},
   "source": [
    "<div class=\"alert alert-block alert-warning\">\n",
    "<b>Warning:</b> This plot is currently not reproducible from the paper due to version issues with python and associated packages.\n",
    "</div>"
   ]
  }
 ],
 "metadata": {
  "kernelspec": {
   "display_name": "Python 2",
   "language": "python",
   "name": "python2"
  },
  "language_info": {
   "codemirror_mode": {
    "name": "ipython",
    "version": 2
   },
   "file_extension": ".py",
   "mimetype": "text/x-python",
   "name": "python",
   "nbconvert_exporter": "python",
   "pygments_lexer": "ipython2",
   "version": "2.7.15"
  }
 },
 "nbformat": 4,
 "nbformat_minor": 2
}
