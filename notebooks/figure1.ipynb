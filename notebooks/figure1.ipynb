{
 "cells": [
  {
   "cell_type": "code",
   "execution_count": 1,
   "metadata": {},
   "outputs": [],
   "source": [
    "import numpy as np\n",
    "import matplotlib.pyplot as plt\n",
    "from matplotlib import rc\n",
    "from scipy.integrate import odeint\n",
    "\n",
    "%matplotlib inline"
   ]
  },
  {
   "cell_type": "code",
   "execution_count": 2,
   "metadata": {},
   "outputs": [],
   "source": [
    "# Set Global constants\n",
    "G = 6.674e-8                    # Gravitational constant - cgs units\n",
    "c = 3.0e10                      # Speed of light - cm/s\n",
    "R = 1.0e6                       # Magnetar radius - km\n",
    "Msol = 1.99e33                  # Solar mass - grams\n",
    "M = 1.4 * Msol                  # Magnetar mass - grams\n",
    "I = (4.0 / 5.0) * M * R ** 2.0  # Moment of Inertia\n",
    "GM = G * M\n",
    "\n",
    "# Time array to calculate over\n",
    "t_arr = np.logspace(0.0, 6.0, num=10001, base=10.0)"
   ]
  },
  {
   "cell_type": "code",
   "execution_count": 3,
   "metadata": {},
   "outputs": [],
   "source": [
    "# Calculate initial values to pass to ODEINT\n",
    "def init_conds(arr):\n",
    "    \"\"\"\n",
    "Function to calculate the initial conditions to pass to ODEINT by converting units.\n",
    "Principally, converting initial disc mass from solar masses to grams, and calculating an initial angular frequency from a spin period in milliseconds.\n",
    "\n",
    "Usage >>> init_conds(arr)\n",
    "arr : list --> element 1: Initial spin period in milliseconds\n",
    "               element 2: Initial disc mass in solar masses\n",
    "\n",
    "Returns a list object --> element 1: Initial disc mass in grams\n",
    "                          element 2: Initial angular frequency in \"per second\"\n",
    "    \"\"\"\n",
    "    Mdisc0 = arr[1] * Msol                      # Disc mass\n",
    "    omega0 = (2.0 * np.pi) / (1.0e-3 * arr[0])  # Angular frequency\n",
    "\n",
    "    return [Mdisc0, omega0]"
   ]
  },
  {
   "cell_type": "code",
   "execution_count": 4,
   "metadata": {},
   "outputs": [],
   "source": [
    "# Model to be passed to ODEINT to calculate evolving disc mass and angular frequency\n",
    "def ODEs(y, t, B, MdiscI, RdiscI, epsilon, delta, n, alpha=0.1, cs7=1.0, k=0.9):\n",
    "    \"\"\"\n",
    "Function to pass to ODEINT which will calculate a disc mass and angular frequency for given time points.\n",
    "\n",
    "Usage >>> ODEs(y, t, B, MdiscI, RdiscI, epsilon, delta, n)\n",
    "      y : output of init_conds()\n",
    "      t : array of time points (t_arr above)\n",
    "      B : Magnetic Field Strength - 10^15 Gauss (float)\n",
    " MdiscI : Initial disc mass - Solar masses (float)\n",
    " RdiscI : Disc radius - km (float)\n",
    "epsilon : timescale ration (float)\n",
    "  delta : mass ratio (float)\n",
    "      n : propeller \"switch-on\" (float)\n",
    "  alpha : Viscosity prescription (float)\n",
    "    cs7 : Sound speed - 10^7 cm/s (float)\n",
    "      k : capping fraction (float)\n",
    "    \"\"\"\n",
    "    # Initial conditions\n",
    "    Mdisc, omega = y\n",
    "    \n",
    "    # Constants\n",
    "    Rdisc = RdiscI * 1.0e5                 # Disc radius - cm\n",
    "    tvisc = Rdisc / (alpha * cs7 * 1.0e7)  # Viscous timescale - s\n",
    "    mu = 1.0e15 * B * R ** 3.0             # Magnetic Dipole Moment\n",
    "    M0 = delta * MdiscI * Msol             # Global Fallback Mass Budget - g\n",
    "    tfb = epsilon * tvisc                  # Fallback timescale - s\n",
    "    \n",
    "    # Radii - Alfven, Corotation, Light Cylinder\n",
    "    Rm = mu ** (4.0 / 7.0) * GM ** (-1.0 / 7.0) * (Mdisc / tvisc) ** (-2.0 / 7.0)\n",
    "    Rc = (GM / omega ** 2.0) ** (2.0 / 3.0)\n",
    "    Rlc = c / omega\n",
    "    # Cap the Alfven radius\n",
    "    if Rm >= k * Rlc:\n",
    "        Rm = k * Rlc\n",
    "    \n",
    "    w = (Rm / Rc) ** (3.0 / 2.0)  # Fastness parameter\n",
    "    \n",
    "    bigT = 0.5 * I * omega ** 2.0  # Rotational energy\n",
    "    modW = (0.6 * M * c ** 2.0 * ((GM / (R * c ** 2.0)) / (1.0 - 0.5 * (GM / (R * c ** 2.0)))))  # Binding energy\n",
    "    rot_param = bigT / modW  # Rotation parameter\n",
    "    \n",
    "    Ndip = (-1.0 * mu ** 2.0 * omega ** 3.0) / (6.0 * c ** 3.0)  # Dipole torque\n",
    "    \n",
    "    # Mass flow rates and efficiencies\n",
    "    eta2 = 0.5 * (1.0 + np.tanh(n * (w- 1.0)))\n",
    "    eta1 = 1.0 - eta2\n",
    "    Mdotprop = eta2 * (Mdisc / tvisc)  # Propelled\n",
    "    Mdotacc = eta1 * (Mdisc / tvisc)   # Accreted\n",
    "    Mdotfb = (M0 / tfb) * ((t + tfb) / tfb) ** (-5.0 / 3.0)  # Fallback rate\n",
    "    Mdotdisc = Mdotfb - Mdotprop - Mdotacc  # Mass flow through the disc\n",
    "    \n",
    "    if rot_param > 0.27:\n",
    "        Nacc = 0.0  # Prevents magnetar break-u[\n",
    "    else:\n",
    "        # Accretion torque\n",
    "        if Rm >= R:\n",
    "            Nacc = (GM * Rm) ** 0.5 * (Mdotacc - Mdotprop)\n",
    "        else:\n",
    "            Nacc = (GM * R) ** 0.5 * (Mdotacc - Mdotprop)\n",
    "    \n",
    "    omegadot = (Nacc + Ndip) / I  # Angular frequency time derivative\n",
    "    \n",
    "    return Mdotdisc, omegadot"
   ]
  },
  {
   "cell_type": "code",
   "execution_count": 5,
   "metadata": {},
   "outputs": [
    {
     "data": {
      "text/plain": [
       "Text(0,0.5,'Propeller Efficiency')"
      ]
     },
     "execution_count": 5,
     "metadata": {},
     "output_type": "execute_result"
    },
    {
     "data": {
      "image/png": "[encoded data removed]",
      "text/plain": [
       "<Figure size 432x288 with 1 Axes>"
      ]
     },
     "metadata": {
      "needs_background": "light"
     },
     "output_type": "display_data"
    }
   ],
   "source": [
    "lines = [':', '--', '-']\n",
    "\n",
    "# Constants\n",
    "B = 1.0  # Magnetic field strength - 10^15 Gauss\n",
    "P = 1.0  # Initial spin period - milliseconds\n",
    "MdiscI = 0.1  # Initial disc mass - Solar masses\n",
    "RdiscI = 100.0  # Disc radius - km\n",
    "epsilon = 1.0\n",
    "delta = 1.0e-6\n",
    "alpha = 1.0\n",
    "cs7 = 1.0\n",
    "\n",
    "# Set-up\n",
    "mu = 1.0e15 * B * R ** 3.0\n",
    "Rdisc = RdiscI * 1.0e5\n",
    "tvisc = Rdisc / (alpha * cs7 * 1.0e7)\n",
    "\n",
    "n_vals = [1.0, 10.0, 50.0]\n",
    "y0 = init_conds([P, MdiscI])\n",
    "\n",
    "# Loop over values of n\n",
    "for i, n in enumerate(n_vals):\n",
    "    soln = odeint(ODEs, y0, t_arr, args=(B, MdiscI, RdiscI, epsilon, delta, n))\n",
    "\n",
    "    # Split soln\n",
    "    Mdisc = soln[:,0]\n",
    "    omega = soln[:,1]\n",
    "    \n",
    "    # Radii\n",
    "    Rm = mu ** (4.0 / 7.0) * GM ** (-1.0 / 7.0) * (Mdisc / tvisc) ** (-2.0 / 7.0)\n",
    "    Rc = (GM / omega ** 2.0) ** (1.0 / 3.0)\n",
    "    Rlc = c / omega\n",
    "    Rm = np.where(Rm >= 0.9 * Rlc, 0.9 * Rlc, Rm)\n",
    "    \n",
    "    w = np.sort((Rm / Rc) ** (3.0 / 2.0))  # Sorted to make plotting nicer\n",
    "    eta2 = 0.5 * (1.0 + np.tanh(n * (w - 1.0)))\n",
    "    \n",
    "    # Plotting\n",
    "    plt.plot(w, eta2, c='k', ls=lines[i], label='n = {}'.format(int(n)))\n",
    "\n",
    "# Plot formatting\n",
    "plt.xlim(0.8, 1.2)\n",
    "plt.ylim(-0.1, 1.1)\n",
    "plt.xticks([0.8, 0.9, 1.0, 1.1, 1.2])\n",
    "plt.tick_params(axis='both', which='major', labelsize=10)\n",
    "plt.xlabel('Fastness Parameter', fontsize=12)\n",
    "plt.ylabel(r'Propeller Efficiency', fontsize=12)"
   ]
  },
  {
   "cell_type": "code",
   "execution_count": null,
   "metadata": {},
   "outputs": [],
   "source": []
  }
 ],
 "metadata": {
  "kernelspec": {
   "display_name": "Python 2",
   "language": "python",
   "name": "python2"
  },
  "language_info": {
   "codemirror_mode": {
    "name": "ipython",
    "version": 2
   },
   "file_extension": ".py",
   "mimetype": "text/x-python",
   "name": "python",
   "nbconvert_exporter": "python",
   "pygments_lexer": "ipython2",
   "version": "2.7.15"
  }
 },
 "nbformat": 4,
 "nbformat_minor": 2
}
